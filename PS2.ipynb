{
 "cells": [
  {
   "cell_type": "code",
   "execution_count": 1,
   "metadata": {
    "collapsed": true
   },
   "outputs": [],
   "source": [
    "using JuMP"
   ]
  },
  {
   "cell_type": "code",
   "execution_count": 2,
   "metadata": {
    "collapsed": false
   },
   "outputs": [
    {
     "name": "stdout",
     "output_type": "stream",
     "text": [
      "Variable values: x: 1 dimensions:\n",
      "[11] = 0.0\n",
      "[12] = 7.5\n",
      "[21] = 0.0\n",
      "[22] = 8.0\n",
      "[31] = 9.0\n",
      "[32] = 0.0\n",
      "\n",
      "Objective value: 57.0\n"
     ]
    }
   ],
   "source": [
    "# Define model\n",
    "m = Model()\n",
    "\n",
    "# Road/Snow removal machine combinations\n",
    "S = [\"11\",\"12\",\"21\",\"22\",\"31\",\"32\"]\n",
    "\n",
    "# Non-negativity\n",
    "@variable(m, x[S] >= 0)\n",
    "\n",
    "# Objective function: maximize snow removal\n",
    "@objective(m, Max, x[\"11\"] + 2x[\"12\"] + 1.2x[\"21\"] + 3x[\"22\"] + 2x[\"31\"] + 3x[\"32\"])\n",
    "\n",
    "# Each machine can only operate for 24 hours in a day\n",
    "@constraint(m, x[\"11\"] + x[\"21\"] + x[\"31\"] <= 24)\n",
    "@constraint(m, x[\"12\"] + x[\"22\"] + x[\"32\"] <= 24)\n",
    "\n",
    "# Can only plow existing snow from each road\n",
    "@constraint(m, x[\"11\"] + 2x[\"12\"] <= 15)\n",
    "@constraint(m, 1.2x[\"21\"] + 3x[\"22\"] <= 24)\n",
    "@constraint(m, 2x[\"31\"] + 3x[\"32\"] <= 18)\n",
    "\n",
    "# Solve the optimazation problem\n",
    "solve(m)\n",
    "\n",
    "# Determine road/snow machine combinations\n",
    "println(\"Variable values: \", getvalue(x))\n",
    "\n",
    "# Determine optimal amount of snow reamoved\n",
    "println(\"Objective value: \", getobjectivevalue(m))"
   ]
  },
  {
   "cell_type": "code",
   "execution_count": 3,
   "metadata": {
    "collapsed": false
   },
   "outputs": [
    {
     "name": "stdout",
     "output_type": "stream",
     "text": [
      "Variable values: x: 1 dimensions:\n",
      "[11] = 4.333333333333333\n",
      "[12] = 5.333333333333334\n",
      "[21] = 0.0\n",
      "[22] = 8.0\n",
      "[31] = 9.0\n",
      "[32] = 0.0\n",
      "\n",
      "Objective value: 13.333333333333332\n"
     ]
    }
   ],
   "source": [
    "# Define model\n",
    "m2 = Model()\n",
    "\n",
    "# Road/Snow removal machine combinations\n",
    "S = [\"11\",\"12\",\"21\",\"22\",\"31\",\"32\"]\n",
    "\n",
    "# Non-negativity\n",
    "@variable(m2, x[S] >= 0)\n",
    "@variable(m2, z >= 0)\n",
    "\n",
    "# Minimize snow removal time\n",
    "@objective(m2, Min, z)\n",
    "\n",
    "# Each machine can only be on the road the min amount of time\n",
    "@constraint(m2, x[\"11\"] + x[\"21\"] + x[\"31\"] <= z)\n",
    "@constraint(m2, x[\"12\"] + x[\"22\"] + x[\"32\"] <= z)\n",
    "\n",
    "# All the snow must be removed from each road\n",
    "@constraint(m2, x[\"11\"] + 2x[\"12\"] == 15)\n",
    "@constraint(m2, 1.2x[\"21\"] + 3x[\"22\"] == 24)\n",
    "@constraint(m2, 2x[\"31\"] + 3x[\"32\"] == 18)\n",
    "\n",
    "# Solve the optimazation problem\n",
    "solve(m2)\n",
    "\n",
    "# Determine road/snow machine combinations\n",
    "println(\"Variable values: \", getvalue(x))\n",
    "\n",
    "# Determine optimal amount of snow removed\n",
    "println(\"Objective value: \", getobjectivevalue(m2))\n",
    "\n"
   ]
  },
  {
   "cell_type": "code",
   "execution_count": 54,
   "metadata": {
    "collapsed": false
   },
   "outputs": [
    {
     "name": "stdout",
     "output_type": "stream",
     "text": [
      "Variable value x: 1.5999999999999996\n",
      "Variable value y: 5.2\n",
      "Objective value: 18.8\n",
      "Total amount: 6.8\n"
     ]
    }
   ],
   "source": [
    "# Define model\n",
    "diet = Model()\n",
    "\n",
    "# Non-negativity and define food variables\n",
    "@variable(diet, x >= 0)\n",
    "@variable(diet, y >= 0)\n",
    "\n",
    "# Objective function: minimize cost\n",
    "@objective(diet, Min, 2x + 3y)\n",
    "\n",
    "# Set up constraints\n",
    "# Need to obtain minimum amount of nutrients\n",
    "# Nutrient 1\n",
    "@constraint(diet, 4x + 6y >= 30)\n",
    "# Nutrient 2\n",
    "@constraint(diet, 6x + 2y >= 20)\n",
    "# Nutrient 3\n",
    "@constraint(diet, x + 2y >= 12)\n",
    "\n",
    "# Solve the optimazation problem\n",
    "status = solve(diet)\n",
    "\n",
    "# Determine food amount\n",
    "println(\"Variable value x: \", getvalue(x))\n",
    "println(\"Variable value y: \", getvalue(y))\n",
    "\n",
    "# Determine optimal cost of food\n",
    "println(\"Objective value: \", getobjectivevalue(diet))\n",
    "# What is the total quantity of food produced\n",
    "println(\"Total amount: \", getvalue(x) + getvalue(y))"
   ]
  },
  {
   "cell_type": "code",
   "execution_count": 113,
   "metadata": {
    "collapsed": false
   },
   "outputs": [
    {
     "name": "stdout",
     "output_type": "stream",
     "text": [
      "10×6 DataFrames.DataFrame\n",
      "│ Row │ Food │ Calories │ Fat │ Saturated_Fat │ Carbohydrate │ Protein │\n",
      "├─────┼──────┼──────────┼─────┼───────────────┼──────────────┼─────────┤\n",
      "│ 1   │ \"1\"  │ 448      │ 1   │ 5             │ 36           │ 2       │\n",
      "│ 2   │ \"2\"  │ 305      │ 17  │ 4             │ 40           │ 7       │\n",
      "│ 3   │ \"3\"  │ 337      │ 4   │ 5             │ 22           │ 4       │\n",
      "│ 4   │ \"4\"  │ 455      │ 18  │ 2             │ 83           │ 5       │\n",
      "│ 5   │ \"5\"  │ 314      │ 19  │ 1             │ 76           │ 13      │\n",
      "│ 6   │ \"6\"  │ 437      │ 19  │ 5             │ 45           │ 1       │\n",
      "│ 7   │ \"7\"  │ 438      │ 3   │ 1             │ 93           │ 0       │\n",
      "│ 8   │ \"8\"  │ 413      │ 17  │ 3             │ 77           │ 0       │\n",
      "│ 9   │ \"9\"  │ 481      │ 13  │ 5             │ 54           │ 0       │\n",
      "│ 10  │ \"10\" │ 150      │ 14  │ 0             │ 22           │ 2       │\n"
     ]
    }
   ],
   "source": [
    "# Import dataframes package and read in teh fooddata csv\n",
    "using DataFrames\n",
    "fooddata = readtable(\"fooddata.csv\",skipstart=1,nrows=10,eltypes=[UTF8String,Int64,Int64,Int64,Int64,Int64])\n",
    "println(fooddata)"
   ]
  },
  {
   "cell_type": "code",
   "execution_count": 111,
   "metadata": {
    "collapsed": false
   },
   "outputs": [
    {
     "data": {
      "text/latex": [
       "$$ 448 x_{1} + 305 x_{2} + 337 x_{3} + 455 x_{4} + 314 x_{5} + 437 x_{6} + 438 x_{7} + 413 x_{8} + 481 x_{9} + 150 x_{10} $$"
      ],
      "text/plain": [
       "448 x[1] + 305 x[2] + 337 x[3] + 455 x[4] + 314 x[5] + 437 x[6] + 438 x[7] + 413 x[8] + 481 x[9] + 150 x[10]"
      ]
     },
     "execution_count": 111,
     "metadata": {},
     "output_type": "execute_result"
    }
   ],
   "source": [
    "# Define model\n",
    "food = Model()\n",
    "\n",
    "# Food options\n",
    "F = fooddata[:Food]\n",
    "\n",
    "# Non-negativity and define food variables\n",
    "@variable(food, x[F] >= 0)\n",
    "\n",
    "# Objective function: \n",
    "@objective(food, Min, sum([fooddata[i,:Calories]*x[fooddata[i,:Food]] for i in 1:size(fooddata)[1]]))\n",
    "\n",
    "\n",
    "\n"
   ]
  },
  {
   "cell_type": "code",
   "execution_count": 102,
   "metadata": {
    "collapsed": false
   },
   "outputs": [
    {
     "name": "stdout",
     "output_type": "stream",
     "text": [
      "10×6 DataFrames.DataFrame\n",
      "│ Row │ Food │ Calories │ Fat │ Saturated_Fat │ Carbohydrate │ Protein │\n",
      "├─────┼──────┼──────────┼─────┼───────────────┼──────────────┼─────────┤\n",
      "│ 1   │ \"1\"  │ 448      │ 1   │ 5             │ 36           │ 2       │\n",
      "│ 2   │ \"2\"  │ 305      │ 17  │ 4             │ 40           │ 7       │\n",
      "│ 3   │ \"3\"  │ 337      │ 4   │ 5             │ 22           │ 4       │\n",
      "│ 4   │ \"4\"  │ 455      │ 18  │ 2             │ 83           │ 5       │\n",
      "│ 5   │ \"5\"  │ 314      │ 19  │ 1             │ 76           │ 13      │\n",
      "│ 6   │ \"6\"  │ 437      │ 19  │ 5             │ 45           │ 1       │\n",
      "│ 7   │ \"7\"  │ 438      │ 3   │ 1             │ 93           │ 0       │\n",
      "│ 8   │ \"8\"  │ 413      │ 17  │ 3             │ 77           │ 0       │\n",
      "│ 9   │ \"9\"  │ 481      │ 13  │ 5             │ 54           │ 0       │\n",
      "│ 10  │ \"10\" │ 150      │ 14  │ 0             │ 22           │ 2       │\n"
     ]
    }
   ],
   "source": []
  },
  {
   "cell_type": "code",
   "execution_count": null,
   "metadata": {
    "collapsed": true
   },
   "outputs": [],
   "source": []
  }
 ],
 "metadata": {
  "anaconda-cloud": {},
  "kernelspec": {
   "display_name": "Julia 0.4.6",
   "language": "julia",
   "name": "julia-0.4"
  },
  "language_info": {
   "file_extension": ".jl",
   "mimetype": "application/julia",
   "name": "julia",
   "version": "0.4.6"
  }
 },
 "nbformat": 4,
 "nbformat_minor": 0
}
