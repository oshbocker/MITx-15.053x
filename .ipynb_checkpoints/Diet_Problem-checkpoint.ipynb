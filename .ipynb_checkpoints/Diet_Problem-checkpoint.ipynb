{
 "cells": [
  {
   "cell_type": "code",
   "execution_count": 1,
   "metadata": {
    "collapsed": false
   },
   "outputs": [
    {
     "name": "stderr",
     "output_type": "stream",
     "text": [
      "INFO: Precompiling module JuMP...\n",
      "WARNING: @defVar is deprecated, use @variable instead.\n",
      "WARNING: @addConstraint is deprecated, use @constraint instead.\n",
      "WARNING: @setObjective is deprecated, use @objective instead.\n"
     ]
    },
    {
     "ename": "LoadError",
     "evalue": "LoadError: No LP solver detected. Try installing one of the following packages: \"Clp\",  \"GLPKMathProgInterface\",  \"Gurobi\",  \"CPLEX\",  \"Mosek\",  and restarting Julia\nwhile loading In[1], in expression starting on line 19",
     "output_type": "error",
     "traceback": [
      "LoadError: No LP solver detected. Try installing one of the following packages: \"Clp\",  \"GLPKMathProgInterface\",  \"Gurobi\",  \"CPLEX\",  \"Mosek\",  and restarting Julia\nwhile loading In[1], in expression starting on line 19",
      "",
      " in error at error.jl:22",
      " in LinearQuadraticModel at /home/mysterion/.julia/v0.4/MathProgBase/src/defaultsolvers.jl:68",
      " in build at /home/mysterion/.julia/v0.4/JuMP/src/solvers.jl:370",
      " in solve at /home/mysterion/.julia/v0.4/JuMP/src/solvers.jl:134"
     ]
    }
   ],
   "source": [
    "using JuMP\n",
    "#Define model \n",
    "m = Model()\n",
    "#Food available\n",
    "S = [\"brownies\",\"ice cream\",\"cola\",\"cheese cake\"]\n",
    "#Non-negativity\n",
    "@defVar(m, x[S] >= 0)\n",
    "#Minimum calories\n",
    "@addConstraint(m, 400x[\"brownies\"] + 200x[\"ice cream\"] + 150x[\"cola\"] + 500x[\"cheese cake\"] >= 500)\n",
    "#At least 6 grams of chocolate\n",
    "@addConstraint(m, 3x[\"brownies\"] + 2x[\"ice cream\"] >= 6)\n",
    "#At least 10 grams of sugar\n",
    "@addConstraint(m, 2x[\"brownies\"] + 2x[\"ice cream\"] + 4x[\"cola\"] + 4x[\"cheese cake\"] >= 10)\n",
    "#At least 8 grams of fat\n",
    "@addConstraint(m, 2x[\"brownies\"] + 4x[\"ice cream\"] + 1x[\"cola\"] + 5x[\"cheese cake\"] >= 8)\n",
    "#Minimize cost of consumption\n",
    "@setObjective(m, Min, 0.5x[\"brownies\"] + 0.2x[\"ice cream\"] + 0.3x[\"cola\"] + 0.8x[\"cheese cake\"])\n",
    "#Solve the optimization problem\n",
    "solve(m)\n",
    "#Determine consumption amounts\n",
    "println(\"variable values: \", getValue(x))\n",
    "#Determine optimal cost of consumption\n",
    "println(\"Objetive value: \", getObjectiveValue(m))"
   ]
  },
  {
   "cell_type": "code",
   "execution_count": 2,
   "metadata": {
    "collapsed": false
   },
   "outputs": [
    {
     "name": "stderr",
     "output_type": "stream",
     "text": [
      "INFO: Cloning cache of GLPK from git://github.com/JuliaOpt/GLPK.jl.git\n",
      "INFO: Cloning cache of GLPKMathProgInterface from git://github.com/JuliaOpt/GLPKMathProgInterface.jl.git\n",
      "INFO: Installing GLPK v0.3.0\n",
      "INFO: Installing GLPKMathProgInterface v0.2.2\n",
      "INFO: Building GLPK\n",
      "INFO: Attempting to Create directory /home/mysterion/.julia/v0.4/GLPK/deps/downloads\n",
      "INFO: Downloading file http://ftp.gnu.org/gnu/glpk/glpk-4.52.tar.gz\n",
      "  % Total    % Received % Xferd  Average Speed   Time    Time     Time  Current\n",
      "                                 Dload  Upload   Total   Spent    Left  Speed\n",
      "100 2744k  100 2744k    0     0  2829k      0 --:--:-- --:--:-- --:--:-- 2829k\n",
      "INFO: Done downloading file http://ftp.gnu.org/gnu/glpk/glpk-4.52.tar.gz\n",
      "INFO: Attempting to Create directory /home/mysterion/.julia/v0.4/GLPK/deps/src\n",
      "INFO: Attempting to Create directory /home/mysterion/.julia/v0.4/GLPK/deps\n",
      "INFO: Directory /home/mysterion/.julia/v0.4/GLPK/deps already created\n",
      "INFO: Attempting to Create directory /home/mysterion/.julia/v0.4/GLPK/deps/builds/libglpk\n",
      "INFO: Changing Directory to /home/mysterion/.julia/v0.4/GLPK/deps/builds/libglpk\n"
     ]
    },
    {
     "name": "stdout",
     "output_type": "stream",
     "text": [
      "checking for a BSD-compatible install... /usr/bin/install -c\n",
      "checking whether build environment is sane... yes\n",
      "checking for a thread-safe mkdir -p... /bin/mkdir -p\n",
      "checking for gawk... no\n",
      "checking for mawk... mawk\n",
      "checking whether make sets $(MAKE)... yes\n",
      "checking for gcc... gcc\n",
      "checking whether the C compiler works... yes\n",
      "checking for C compiler default output file name... a.out\n",
      "checking for suffix of executables... \n",
      "checking whether we are cross compiling... no\n",
      "checking for suffix of object files... o\n",
      "checking whether we are using the GNU C compiler... yes\n",
      "checking whether gcc accepts -g... yes\n",
      "checking for gcc option to accept ISO C89... none needed\n",
      "checking for style of include used by make... GNU\n",
      "checking dependency style of gcc... gcc3\n",
      "checking build system type... x86_64-unknown-linux-gnu\n",
      "checking host system type... x86_64-unknown-linux-gnu\n",
      "checking how to print strings... printf\n",
      "checking for a sed that does not truncate output... /bin/sed\n",
      "checking for grep that handles long lines and -e... /bin/grep\n",
      "checking for egrep... /bin/grep -E\n",
      "checking for fgrep... /bin/grep -F\n",
      "checking for ld used by gcc... /usr/bin/ld\n",
      "checking if the linker (/usr/bin/ld) is GNU ld... yes\n",
      "checking for BSD- or MS-compatible name lister (nm)... /usr/bin/nm -B\n",
      "checking the name lister (/usr/bin/nm -B) interface... BSD nm\n",
      "checking whether ln -s works... yes\n",
      "checking the maximum length of command line arguments... 1572864\n",
      "checking whether the shell understands some XSI constructs... yes\n",
      "checking whether the shell understands \"+=\"... yes\n",
      "checking how to convert x86_64-unknown-linux-gnu file names to x86_64-unknown-linux-gnu format... func_convert_file_noop\n",
      "checking how to convert x86_64-unknown-linux-gnu file names to toolchain format... func_convert_file_noop\n",
      "checking for /usr/bin/ld option to reload object files... -r\n",
      "checking for objdump... objdump\n",
      "checking how to recognize dependent libraries... pass_all\n",
      "checking for dlltool... no\n",
      "checking how to associate runtime and link libraries... printf %s\\n\n",
      "checking for ar... ar\n",
      "checking for archiver @FILE support... @\n",
      "checking for strip... strip\n",
      "checking for ranlib... ranlib\n",
      "checking command to parse /usr/bin/nm -B output from gcc object... ok\n",
      "checking for sysroot... no\n",
      "checking for mt... mt\n",
      "checking if mt is a manifest tool... no\n",
      "checking how to run the C preprocessor... gcc -E\n",
      "checking for ANSI C header files... yes\n",
      "checking for sys/types.h... yes\n",
      "checking for sys/stat.h... yes\n",
      "checking for stdlib.h... yes\n",
      "checking for string.h... yes\n",
      "checking for memory.h... yes\n",
      "checking for strings.h... yes\n",
      "checking for inttypes.h... yes\n",
      "checking for stdint.h... yes\n",
      "checking for unistd.h... yes\n",
      "checking for dlfcn.h... yes\n",
      "checking for objdir... .libs\n",
      "checking if gcc supports -fno-rtti -fno-exceptions... no\n",
      "checking for gcc option to produce PIC... -fPIC -DPIC\n",
      "checking if gcc PIC flag -fPIC -DPIC works... yes\n",
      "checking if gcc static flag -static works... yes\n",
      "checking if gcc supports -c -o file.o... yes\n",
      "checking if gcc supports -c -o file.o... (cached) yes\n",
      "checking whether the gcc linker (/usr/bin/ld -m elf_x86_64) supports shared libraries... yes\n",
      "checking whether -lc should be explicitly linked in... no\n",
      "checking dynamic linker characteristics... GNU/Linux ld.so\n",
      "checking how to hardcode library paths into programs... immediate\n",
      "checking whether stripping libraries is possible... yes\n",
      "checking if libtool supports shared libraries... yes\n",
      "checking whether to build shared libraries... yes\n",
      "checking whether to build static libraries... yes\n",
      "checking for exp in -lm... yes\n",
      "checking sys/time.h usability... yes\n",
      "checking sys/time.h presence... yes\n",
      "checking for sys/time.h... yes\n",
      "checking for gettimeofday... yes\n",
      "checking gmp.h usability... no\n",
      "checking gmp.h presence... no\n",
      "checking for gmp.h... no\n"
     ]
    },
    {
     "name": "stderr",
     "output_type": "stream",
     "text": [
      "configure: error: gmp.h header not found\n",
      "================================[ ERROR: GLPK ]=================================\n",
      "\n",
      "LoadError: failed process: Process(setenv(`/home/mysterion/.julia/v0.4/GLPK/deps/src/glpk-4.52/configure --with-gmp --prefix=/home/mysterion/.julia/v0.4/GLPK/deps/usr`,Union{ASCIIString,UTF8String}[\"PATH=/home/mysterion/.julia/v0.4/GLPK/deps/usr/bin:/usr/local/sbin:/usr/local/bin:/usr/sbin:/usr/bin:/sbin:/bin:/usr/games:/usr/local/games:/snap/bin\",\"SESSION=ubuntu\",\"DEFAULTS_PATH=/usr/share/gconf/ubuntu.default.path\",\"QT_ACCESSIBILITY=1\",\"UPSTART_SESSION=unix:abstract=/com/ubuntu/upstart-session/1000/3314\",\"UPSTART_JOB=unity7\",\"DBUS_SESSION_BUS_ADDRESS=unix:abstract=/tmp/dbus-iXVbxOAP7v\",\"XDG_SEAT_PATH=/org/freedesktop/DisplayManager/Seat0\",\"XDG_SESSION_DESKTOP=ubuntu\",\"XDG_SESSION_TYPE=x11\",\"QT_IM_MODULE=ibus\",\"USER=mysterion\",\"XDG_CONFIG_DIRS=/etc/xdg/xdg-ubuntu:/usr/share/upstart/xdg:/etc/xdg\",\"LESSCLOSE=/usr/bin/lesspipe %s %s\",\"SESSIONTYPE=gnome-session\",\"INSTANCE=\",\"GDMSESSION=ubuntu\",\"COLUMNS=80\",\"LESSOPEN=| /usr/bin/lesspipe %s\",\"CLUTTER_IM_MODULE=xim\",\"XDG_DATA_DIRS=/usr/share/ubuntu:/usr/share/gnome:/usr/local/share/:/usr/share/:/var/lib/snapd/desktop\",\"SHELL=/bin/bash\",\"XDG_SEAT=seat0\",\"XAUTHORITY=/home/mysterion/.Xauthority\",\"XDG_MENU_PREFIX=gnome-\",\"GNOME_KEYRING_PID=\",\"GTK_MODULES=gail:atk-bridge:unity-gtk-module\",\"GTK_IM_MODULE=ibus\",\"SESSION_MANAGER=local/Desktop:@/tmp/.ICE-unix/3538,unix/Desktop:/tmp/.ICE-unix/3538\",\"QT_QPA_PLATFORMTHEME=appmenu-qt5\",\"XMODIFIERS=@im=ibus\",\"LINES=30\",\"TERM=xterm-256color\",\"HOME=/home/mysterion\",\"VTE_VERSION=4205\",\"GTK2_MODULES=overlay-scrollbar\",\"UPSTART_INSTANCE=\",\"COMPIZ_CONFIG_PROFILE=ubuntu\",\"IM_CONFIG_PHASE=1\",\"XDG_CURRENT_DESKTOP=Unity\",\"LANG=en_US.UTF-8\",\"LOGNAME=mysterion\",\"GNOME_DESKTOP_SESSION_ID=this-is-deprecated\",\"SHLVL=1\",\"XDG_RUNTIME_DIR=/run/user/1000\",\"SSH_AUTH_SOCK=/run/user/1000/keyring/ssh\",\"DESKTOP_SESSION=ubuntu\",\"OLDPWD=/home/mysterion/Dropbox/ComputerScience/edX\",\"GDM_LANG=en_US\",\"_=/usr/local/bin/jupyter\",\"GPG_AGENT_INFO=/home/mysterion/.gnupg/S.gpg-agent:0:1\",\"PWD=/home/mysterion/Dropbox/ComputerScience/edX/MITx-15.053x\",\"DISPLAY=:0\",\"UPSTART_EVENTS=xsession started\",\"COMPIZ_BIN_PATH=/usr/bin/\",\"LANGUAGE=en_US\",\"JPY_PARENT_PID=7119\",\"XDG_GREETER_DATA_DIR=/var/lib/lightdm-data/mysterion\",\"XDG_SESSION_PATH=/org/freedesktop/DisplayManager/Session0\",\"CPPFLAGS= -I/home/mysterion/.julia/v0.4/GLPK/deps/usr/include -I/usr//include\",\"LDFLAGS= -L/home/mysterion/.julia/v0.4/GLPK/deps/usr/lib -L/usr//lib -Wl,-rpath -Wl,/home/mysterion/.julia/v0.4/GLPK/deps/usr/lib\",\"XDG_VTNR=7\",\"WINDOWID=67108874\",\"MANDATORY_PATH=/usr/share/gconf/ubuntu.mandatory.path\",\"XDG_SESSION_ID=c2\",\"PKG_CONFIG_PATH=/home/mysterion/.julia/v0.4/GLPK/deps/usr/lib/pkgconfig\",\"QT_LINUX_ACCESSIBILITY_ALWAYS_ON=1\",\"QT4_IM_MODULE=xim\",\"LS_COLORS=rs=0:di=01;34:ln=01;36:mh=00:pi=40;33:so=01;35:do=01;35:bd=40;33;01:cd=40;33;01:or=40;31;01:mi=00:su=37;41:sg=30;43:ca=30;41:tw=30;42:ow=34;42:st=37;44:ex=01;32:*.tar=01;31:*.tgz=01;31:*.arc=01;31:*.arj=01;31:*.taz=01;31:*.lha=01;31:*.lz4=01;31:*.lzh=01;31:*.lzma=01;31:*.tlz=01;31:*.txz=01;31:*.tzo=01;31:*.t7z=01;31:*.zip=01;31:*.z=01;31:*.Z=01;31:*.dz=01;31:*.gz=01;31:*.lrz=01;31:*.lz=01;31:*.lzo=01;31:*.xz=01;31:*.bz2=01;31:*.bz=01;31:*.tbz=01;31:*.tbz2=01;31:*.tz=01;31:*.deb=01;31:*.rpm=01;31:*.jar=01;31:*.war=01;31:*.ear=01;31:*.sar=01;31:*.rar=01;31:*.alz=01;31:*.ace=01;31:*.zoo=01;31:*.cpio=01;31:*.7z=01;31:*.rz=01;31:*.cab=01;31:*.jpg=01;35:*.jpeg=01;35:*.gif=01;35:*.bmp=01;35:*.pbm=01;35:*.pgm=01;35:*.ppm=01;35:*.tga=01;35:*.xbm=01;35:*.xpm=01;35:*.tif=01;35:*.tiff=01;35:*.png=01;35:*.svg=01;35:*.svgz=01;35:*.mng=01;35:*.pcx=01;35:*.mov=01;35:*.mpg=01;35:*.mpeg=01;35:*.m2v=01;35:*.mkv=01;35:*.webm=01;35:*.ogm=01;35:*.mp4=01;35:*.m4v=01;35:*.mp4v=01;35:*.vob=01;35:*.qt=01;35:*.nuv=01;35:*.wmv=01;35:*.asf=01;35:*.rm=01;35:*.rmvb=01;35:*.flc=01;35:*.avi=01;35:*.fli=01;35:*.flv=01;35:*.gl=01;35:*.dl=01;35:*.xcf=01;35:*.xwd=01;35:*.yuv=01;35:*.cgm=01;35:*.emf=01;35:*.ogv=01;35:*.ogx=01;35:*.aac=00;36:*.au=00;36:*.flac=00;36:*.m4a=00;36:*.mid=00;36:*.midi=00;36:*.mka=00;36:*.mp3=00;36:*.mpc=00;36:*.ogg=00;36:*.ra=00;36:*.wav=00;36:*.oga=00;36:*.opus=00;36:*.spx=00;36:*.xspf=00;36:\",\"GNOME_KEYRING_CONTROL=\",\"JOB=unity-settings-daemon\",\"OPENBLAS_MAIN_FREE=1\"]), ProcessExited(1)) [1]\n",
      "while loading /home/mysterion/.julia/v0.4/GLPK/deps/build.jl, in expression starting on line 62\n",
      "\n",
      "================================================================================\n",
      "\n",
      "================================[ BUILD ERRORS ]================================\n",
      "\n",
      "WARNING: GLPK had build errors.\n",
      "\n",
      " - packages with build errors remain installed in /home/mysterion/.julia/v0.4\n",
      " - build the package(s) and all dependencies with `Pkg.build(\"GLPK\")`\n",
      " - build a single package by running its `deps/build.jl` script\n",
      "\n",
      "================================================================================\n",
      "INFO: Package database updated\n"
     ]
    }
   ],
   "source": [
    "Pkg.add(\"GLPKMathProgInterface\")"
   ]
  },
  {
   "cell_type": "code",
   "execution_count": null,
   "metadata": {
    "collapsed": true
   },
   "outputs": [],
   "source": []
  }
 ],
 "metadata": {
  "kernelspec": {
   "display_name": "Julia 0.4.6",
   "language": "julia",
   "name": "julia-0.4"
  },
  "language_info": {
   "file_extension": ".jl",
   "mimetype": "application/julia",
   "name": "julia",
   "version": "0.4.6"
  }
 },
 "nbformat": 4,
 "nbformat_minor": 0
}
