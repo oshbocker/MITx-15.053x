{
 "cells": [
  {
   "cell_type": "code",
   "execution_count": 2,
   "metadata": {
    "collapsed": true
   },
   "outputs": [],
   "source": [
    "using JuMP"
   ]
  },
  {
   "cell_type": "code",
   "execution_count": 4,
   "metadata": {
    "collapsed": false
   },
   "outputs": [
    {
     "name": "stdout",
     "output_type": "stream",
     "text": [
      "Variable values: x: 1 dimensions:\n",
      "[11] = 0.0\n",
      "[12] = 7.5\n",
      "[21] = 0.0\n",
      "[22] = 8.0\n",
      "[31] = 9.0\n",
      "[32] = 0.0\n",
      "\n",
      "Objective value: 57.0\n"
     ]
    }
   ],
   "source": [
    "# Define model\n",
    "m = Model()\n",
    "\n",
    "# Road/Snow removal machine combinations\n",
    "S = [\"11\",\"12\",\"21\",\"22\",\"31\",\"32\"]\n",
    "\n",
    "# Non-negativity\n",
    "@defVar(m, x[S] >= 0)\n",
    "\n",
    "# Maximize snow removal\n",
    "@objective(m, Max, x[\"11\"] + 2x[\"12\"] + 1.2x[\"21\"] + 3x[\"22\"] + 2x[\"31\"] + 3x[\"32\"])\n",
    "\n",
    "# Each machine can only operate for 24 hours in a day\n",
    "@constraint(m, x[\"11\"] + x[\"21\"] + x[\"31\"] <= 24)\n",
    "@constraint(m, x[\"12\"] + x[\"22\"] + x[\"32\"] <= 24)\n",
    "\n",
    "# Can only plow existing snow from each road\n",
    "@constraint(m, x[\"11\"] + 2x[\"12\"] <= 15)\n",
    "@constraint(m, 1.2x[\"21\"] + 3x[\"22\"] <= 24)\n",
    "@constraint(m, 2x[\"31\"] + 3x[\"32\"] <= 18)\n",
    "\n",
    "# Solve the optimazation problem\n",
    "solve(m)\n",
    "\n",
    "# Determine road/snow machine combinations\n",
    "println(\"Variable values: \", getvalue(x))\n",
    "\n",
    "# Determine optimal amount of snow reamoved\n",
    "println(\"Objective value: \", getobjectivevalue(m))\n",
    "\n"
   ]
  },
  {
   "cell_type": "code",
   "execution_count": 1,
   "metadata": {
    "collapsed": false
   },
   "outputs": [
    {
     "ename": "LoadError",
     "evalue": "LoadError: UndefVarError: Model not defined\nwhile loading In[1], in expression starting on line 2",
     "output_type": "error",
     "traceback": [
      "LoadError: UndefVarError: Model not defined\nwhile loading In[1], in expression starting on line 2",
      ""
     ]
    }
   ],
   "source": [
    "# Define model\n",
    "m2 = Model()\n",
    "\n",
    "# Road/Snow removal machine combinations\n",
    "S = [\"11\",\"12\",\"21\",\"22\",\"31\",\"32\"]\n",
    "\n",
    "# Non-negativity\n",
    "@defVar(m2, x[S] >= 0)\n",
    "@defVar(m2, z >= 0)\n",
    "\n",
    "# Minimize snow removal time\n",
    "@objective(m2, Min, z)\n",
    "\n",
    "# Each machine can only be on the road the min amount of time\n",
    "@constraint(m2, x[\"11\"] + x[\"21\"] + x[\"31\"] <= z)\n",
    "@constraint(m2, x[\"12\"] + x[\"22\"] + x[\"32\"] <= z)\n",
    "\n",
    "# All the snow must be removed from each road\n",
    "@constraint(m2, x[\"11\"] + 2x[\"12\"] == 15)\n",
    "@constraint(m2, 1.2x[\"21\"] + 3x[\"22\"] == 24)\n",
    "@constraint(m2, 2x[\"31\"] + 3x[\"32\"] == 18)\n",
    "\n",
    "# Solve the optimazation problem\n",
    "solve(m2)\n",
    "\n",
    "# Determine road/snow machine combinations\n",
    "println(\"Variable values: \", getvalue(x))\n",
    "\n",
    "# Determine optimal amount of snow removed\n",
    "println(\"Objective value: \", getObjectiveValue(m2))\n",
    "\n"
   ]
  },
  {
   "cell_type": "code",
   "execution_count": 39,
   "metadata": {
    "collapsed": false
   },
   "outputs": [
    {
     "name": "stdout",
     "output_type": "stream",
     "text": [
      "x[i] ≥ 0 ∀ i ∈ {11,12,…,31,32}\n"
     ]
    }
   ],
   "source": [
    "# Define model\n",
    "diet = Model()\n",
    "\n",
    "# Nutrients\n",
    "N = [\"1\",\"2\",\"3\"]"
   ]
  },
  {
   "cell_type": "code",
   "execution_count": null,
   "metadata": {
    "collapsed": true
   },
   "outputs": [],
   "source": []
  }
 ],
 "metadata": {
  "anaconda-cloud": {},
  "kernelspec": {
   "display_name": "Julia 0.4.6",
   "language": "julia",
   "name": "julia-0.4"
  },
  "language_info": {
   "file_extension": ".jl",
   "mimetype": "application/julia",
   "name": "julia",
   "version": "0.4.6"
  }
 },
 "nbformat": 4,
 "nbformat_minor": 0
}
